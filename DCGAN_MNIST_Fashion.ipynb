{
  "nbformat": 4,
  "nbformat_minor": 0,
  "metadata": {
    "colab": {
      "name": "DCGAN_MNIST_Fashion.ipynb",
      "provenance": [],
      "collapsed_sections": [],
      "toc_visible": true,
      "authorship_tag": "ABX9TyOCJxXWn3znorPwERsOvS78"
    },
    "kernelspec": {
      "name": "python3",
      "display_name": "Python 3"
    },
    "accelerator": "GPU"
  },
  "cells": [
    {
      "cell_type": "markdown",
      "metadata": {
        "id": "JzWq66pjpKWl",
        "colab_type": "text"
      },
      "source": [
        "Deep Convoluted GANs (DCGAN) is different from vanilla GANs in that it used Convolutional layers instead of daense layers. Idea of this experiment is to understand\n",
        "1. In comparision to vanilla GANs how good DCGANs fare - Qualitative Metrics \n",
        "2. In comparision to vanilla GANs how good DCGANs fare - Quantitaive Metrics (TBD, from Inception score, MiFID, FID https://www.kaggle.com/c/generative-dog-images/overview/evaluation)\n",
        "/\n",
        "Data used is from Keras datasets https://keras.io/api/datasets"
      ]
    },
    {
      "cell_type": "markdown",
      "metadata": {
        "id": "f7qAwdr2oxFY",
        "colab_type": "text"
      },
      "source": [
        "Importing the libraries"
      ]
    },
    {
      "cell_type": "code",
      "metadata": {
        "id": "d330JMrImyJF",
        "colab_type": "code",
        "colab": {}
      },
      "source": [
        "import numpy as np \n",
        "import tensorflow as tf\n",
        "import os # for saving checkpoint\n",
        "from tensorflow.keras import datasets # for downloading data\n",
        "import matplotlib.pyplot as plt # for showing images\n",
        "from tensorflow.keras import layers \n",
        "import random # for generating random number (image index)\n",
        "import time # for start time of training\n",
        "from IPython import display # for image display"
      ],
      "execution_count": 2,
      "outputs": []
    },
    {
      "cell_type": "markdown",
      "metadata": {
        "id": "j0c14q3ao4pZ",
        "colab_type": "text"
      },
      "source": [
        "Importing the dataset - MNIST Fashion https://keras.io/api/datasets/fashion_mnist/ \n",
        "\n",
        "\n",
        "*   Label\tDescription\n",
        "*   0\tT-shirt/top\n",
        "*  1\tTrouser\n",
        "*  2\tPullover\n",
        "*  3\tDress\n",
        "*  4\tCoat\n",
        "*  5\tSandal\n",
        "*  6\tShirt\n",
        "*  7\tSneaker\n",
        "*  8\tBag\n",
        "*  9\tAnkle boot\n",
        "\n",
        "\n",
        "\n",
        "\n",
        "\n"
      ]
    },
    {
      "cell_type": "code",
      "metadata": {
        "id": "qkrPERY5owIp",
        "colab_type": "code",
        "colab": {
          "base_uri": "https://localhost:8080/",
          "height": 153
        },
        "outputId": "e4318800-3acd-4732-f202-d9bc3274feef"
      },
      "source": [
        "\n",
        "(train_images, train_labels), (_, _) = tf.keras.datasets.fashion_mnist.load_data()\n",
        "# Tuple of Numpy arrays: (x_train, y_train), (x_test, y_test) - we dont require x_test and y_test and there fore the blank\n",
        "#x_train: uint8 arrays of grayscale image data with shapes (num_samples, 28, 28).\n",
        "#y_train: uint8 arrays of digit labels (integers in range 0-9) with shapes (num_samples,)\n",
        "\n"
      ],
      "execution_count": 14,
      "outputs": [
        {
          "output_type": "stream",
          "text": [
            "Downloading data from https://storage.googleapis.com/tensorflow/tf-keras-datasets/train-labels-idx1-ubyte.gz\n",
            "32768/29515 [=================================] - 0s 0us/step\n",
            "Downloading data from https://storage.googleapis.com/tensorflow/tf-keras-datasets/train-images-idx3-ubyte.gz\n",
            "26427392/26421880 [==============================] - 0s 0us/step\n",
            "Downloading data from https://storage.googleapis.com/tensorflow/tf-keras-datasets/t10k-labels-idx1-ubyte.gz\n",
            "8192/5148 [===============================================] - 0s 0us/step\n",
            "Downloading data from https://storage.googleapis.com/tensorflow/tf-keras-datasets/t10k-images-idx3-ubyte.gz\n",
            "4423680/4422102 [==============================] - 0s 0us/step\n"
          ],
          "name": "stdout"
        }
      ]
    },
    {
      "cell_type": "markdown",
      "metadata": {
        "id": "n6YeFc2JrZz5",
        "colab_type": "text"
      },
      "source": [
        "Check the downloaded data"
      ]
    },
    {
      "cell_type": "code",
      "metadata": {
        "id": "63YR6xvJrRxA",
        "colab_type": "code",
        "colab": {
          "base_uri": "https://localhost:8080/",
          "height": 34
        },
        "outputId": "9ad730bf-6e0d-47e5-86bf-ae0194384b40"
      },
      "source": [
        "train_images.shape\n",
        "# around 60000 images"
      ],
      "execution_count": 15,
      "outputs": [
        {
          "output_type": "execute_result",
          "data": {
            "text/plain": [
              "(60000, 28, 28)"
            ]
          },
          "metadata": {
            "tags": []
          },
          "execution_count": 15
        }
      ]
    },
    {
      "cell_type": "code",
      "metadata": {
        "id": "-y8Ikdy8rx-A",
        "colab_type": "code",
        "colab": {
          "base_uri": "https://localhost:8080/",
          "height": 282
        },
        "outputId": "051b70b5-e7c8-4bfa-a8ec-606efd713c1c"
      },
      "source": [
        "# visualizing the data\n",
        "n = random.randint(0,train_images.shape[0]-1)# generated a random integer between 0 and image index\n",
        "img = train_images[n].reshape((28, 28)) # using the index, get the image reshaped to 28, 28, [ understood by stackoverflow comments]\n",
        "label_index = train_labels[n] # the label for the corresponding index\n",
        "label_dict = {0:\"T-shirt/top\",1:\"Trouser\",2:\"Pullover\",3:\"Dress\",4:\"Coat\",5:\"Sandal\",6:\"Shirt\",7:\"Sneaker\",8:\"Bag\",9:\"Ankle boot\"}\n",
        "print(label_dict[label_index])\n",
        "plt.imshow(img, cmap='gray')\n",
        "plt.show()"
      ],
      "execution_count": 40,
      "outputs": [
        {
          "output_type": "stream",
          "text": [
            "Coat\n"
          ],
          "name": "stdout"
        },
        {
          "output_type": "display_data",
          "data": {
            "image/png": "[encoded data removed]",
            "text/plain": [
              "<Figure size 432x288 with 1 Axes>"
            ]
          },
          "metadata": {
            "tags": [],
            "needs_background": "light"
          }
        }
      ]
    },
    {
      "cell_type": "markdown",
      "metadata": {
        "id": "-E-QX2txyi4E",
        "colab_type": "text"
      },
      "source": [
        "Normalizing and creating memory efficient dataset "
      ]
    },
    {
      "cell_type": "code",
      "metadata": {
        "id": "SSE_ABIivJC7",
        "colab_type": "code",
        "colab": {}
      },
      "source": [
        "# normalising the image data set\n",
        "train_images = train_images.reshape(train_images.shape[0], 28, 28, 1).astype('float32') # creating tensor by reshaping 60K, 28, 28, 1\n",
        "train_images = (train_images - 127.5) / 127.5 # Normalize the images to [-1, 1], also we use tanh as the output of the generator"
      ],
      "execution_count": 41,
      "outputs": []
    },
    {
      "cell_type": "code",
      "metadata": {
        "id": "Ktd3dwonxd2O",
        "colab_type": "code",
        "colab": {}
      },
      "source": [
        "#creating dataset using https://www.tensorflow.org/api_docs/python/tf/data/Dataset API\n",
        "BATCH_SIZE = 256\n",
        "BUFFER_SIZE = 600000\n",
        "# Batch and shuffle the data\n",
        "train_dataset = tf.data.Dataset.from_tensor_slices(train_images).shuffle(BUFFER_SIZE).batch(BATCH_SIZE)"
      ],
      "execution_count": 42,
      "outputs": []
    },
    {
      "cell_type": "markdown",
      "metadata": {
        "id": "Ckz75KWIy1AI",
        "colab_type": "text"
      },
      "source": [
        "**Creating the Models**"
      ]
    },
    {
      "cell_type": "markdown",
      "metadata": {
        "id": "4nwvwmf-y4jU",
        "colab_type": "text"
      },
      "source": [
        "First we would create **generator**: this takes in a noise and looks to create 28x28x1 image"
      ]
    },
    {
      "cell_type": "code",
      "metadata": {
        "id": "Y5BLCRRvyj4Z",
        "colab_type": "code",
        "colab": {}
      },
      "source": [
        "def generator_model():\n",
        "    model = tf.keras.Sequential()\n",
        "    model.add(layers.Dense(7*7*256, use_bias=False, input_shape=(100,))) # Note: model takes input shape of 100, 7*7*256/28*28 = 16; 16 = 2^4, we would have 4-1 =3 de-convulational layers\n",
        "    model.add(layers.BatchNormalization())\n",
        "    model.add(layers.LeakyReLU())\n",
        "\n",
        "    model.add(layers.Reshape((7, 7, 256)))\n",
        "    assert model.output_shape == (None, 7, 7, 256) # Note: None is the batch size\n",
        "\n",
        "    model.add(layers.Conv2DTranspose(128, (5, 5), strides=(1, 1), padding='same', use_bias=False)) # Deconvolution\n",
        "    assert model.output_shape == (None, 7, 7, 128) # makes sure that the shape is now 7x7x128\n",
        "    model.add(layers.BatchNormalization())\n",
        "    model.add(layers.LeakyReLU())\n",
        "\n",
        "    model.add(layers.Conv2DTranspose(64, (5, 5), strides=(2, 2), padding='same', use_bias=False))\n",
        "    assert model.output_shape == (None, 14, 14, 64) # makes sure that the shape is now 14x14x64\n",
        "    model.add(layers.BatchNormalization())\n",
        "    model.add(layers.LeakyReLU())\n",
        "\n",
        "    model.add(layers.Conv2DTranspose(1, (5, 5), strides=(2, 2), padding='same', use_bias=False, activation='tanh'))\n",
        "    assert model.output_shape == (None, 28, 28, 1)\n",
        "\n",
        "    return model\n"
      ],
      "execution_count": 43,
      "outputs": []
    },
    {
      "cell_type": "markdown",
      "metadata": {
        "id": "hu2YB8xq4WSW",
        "colab_type": "text"
      },
      "source": [
        "Checking if the generator is able to generate any image"
      ]
    },
    {
      "cell_type": "code",
      "metadata": {
        "id": "WTKRW1TA3NKw",
        "colab_type": "code",
        "colab": {
          "base_uri": "https://localhost:8080/",
          "height": 299
        },
        "outputId": "eca1a9ee-d4d1-47fd-d5b5-2ea1d9bd0d18"
      },
      "source": [
        "noise = tf.random.normal([1, 100])  # random noise  created from normal distribution\n",
        "print(noise.shape)\n",
        "generator = generator_model() # creating an object of the model\n",
        "generated_image = generator(noise, training=False)\n",
        "plt.imshow(generated_image[0, :, :, 0], cmap='gray')"
      ],
      "execution_count": 44,
      "outputs": [
        {
          "output_type": "stream",
          "text": [
            "(1, 100)\n"
          ],
          "name": "stdout"
        },
        {
          "output_type": "execute_result",
          "data": {
            "text/plain": [
              "<matplotlib.image.AxesImage at 0x7f553cb99780>"
            ]
          },
          "metadata": {
            "tags": []
          },
          "execution_count": 44
        },
        {
          "output_type": "display_data",
          "data": {
            "image/png": "[encoded data removed]",
            "text/plain": [
              "<Figure size 432x288 with 1 Axes>"
            ]
          },
          "metadata": {
            "tags": [],
            "needs_background": "light"
          }
        }
      ]
    },
    {
      "cell_type": "markdown",
      "metadata": {
        "id": "hoU-exBZ3MoY",
        "colab_type": "text"
      },
      "source": [
        "First we would create **discriminator**: this takes in a 28x28x1 image and classifies it into fake and real"
      ]
    },
    {
      "cell_type": "code",
      "metadata": {
        "id": "v5w7pimK4xBq",
        "colab_type": "code",
        "colab": {}
      },
      "source": [
        "def discriminator_model(): # the model is revese of generator, but has last layer for classification\n",
        "    model = tf.keras.Sequential()\n",
        "    model.add(layers.Conv2D(64, (5, 5), strides=(2, 2), padding='same',\n",
        "                                     input_shape=[28, 28, 1]))\n",
        "    model.add(layers.LeakyReLU())\n",
        "    model.add(layers.Dropout(0.3)) # avoids overfitting\n",
        "\n",
        "    model.add(layers.Conv2D(128, (5, 5), strides=(2, 2), padding='same'))\n",
        "    model.add(layers.LeakyReLU())\n",
        "    model.add(layers.Dropout(0.3)) # avoids overfitting\n",
        "\n",
        "    model.add(layers.Flatten())\n",
        "    model.add(layers.Dense(1)) # we need only binary classification\n",
        "\n",
        "    return model"
      ],
      "execution_count": 45,
      "outputs": []
    },
    {
      "cell_type": "code",
      "metadata": {
        "id": "jshe4gQl56OT",
        "colab_type": "code",
        "colab": {
          "base_uri": "https://localhost:8080/",
          "height": 34
        },
        "outputId": "1d89d606-2fe1-43fe-ab72-a860c0f8e320"
      },
      "source": [
        "discriminator = discriminator_model()\n",
        "decision = discriminator(generated_image) # decision on the generated image should be near zero when we start\n",
        "print (decision)"
      ],
      "execution_count": 46,
      "outputs": [
        {
          "output_type": "stream",
          "text": [
            "tf.Tensor([[-0.00063828]], shape=(1, 1), dtype=float32)\n"
          ],
          "name": "stdout"
        }
      ]
    },
    {
      "cell_type": "markdown",
      "metadata": {
        "id": "jtN7e51H117Z",
        "colab_type": "text"
      },
      "source": [
        "**Loss Function - Cross Entropy**, as it is a binary classification\n",
        "**Optimizer - Adam**, it is suggested in the paper"
      ]
    },
    {
      "cell_type": "code",
      "metadata": {
        "id": "APBMGWTa6bmt",
        "colab_type": "code",
        "colab": {}
      },
      "source": [
        "# This method returns a helper function to compute cross entropy loss\n",
        "cross_entropy = tf.keras.losses.BinaryCrossentropy(from_logits=True)\n",
        "# this is a different function fron binary_crossentropy, which only calculates the loss once the y_actual and y_pred is provided"
      ],
      "execution_count": 47,
      "outputs": []
    },
    {
      "cell_type": "markdown",
      "metadata": {
        "id": "tn5NTKTZ7Lj9",
        "colab_type": "text"
      },
      "source": [
        "**Discriminator Loss** : The below method quantifies how well the discriminator is able to distinguish real images from fakes. It compares the discriminator's predictions on real images to an array of 1s, and the discriminator's predictions on fake (generated) images to an array of 0s."
      ]
    },
    {
      "cell_type": "code",
      "metadata": {
        "id": "qGWPR9v97AX7",
        "colab_type": "code",
        "colab": {}
      },
      "source": [
        "# Discriminator loss function\n",
        "def discriminator_loss(real_output, fake_output):\n",
        "    real_loss = cross_entropy(tf.ones_like(real_output), real_output) # y_actual = 1, y_pred= output of discriminator, ideally 1\n",
        "    fake_loss = cross_entropy(tf.zeros_like(fake_output), fake_output) # y_actual = 0, y_pred= output of discriminator, ideally 0\n",
        "    total_loss = real_loss + fake_loss\n",
        "    return total_loss"
      ],
      "execution_count": 48,
      "outputs": []
    },
    {
      "cell_type": "markdown",
      "metadata": {
        "id": "lEmAD6Hd6_xY",
        "colab_type": "text"
      },
      "source": [
        "**Generator loss**: The generator's loss quantifies how well it was able to trick the discriminator. Intuitively, if the generator is performing well, the discriminator will classify the fake images as real (or 1). Here, we will compare the discriminators decisions on the generated images to an array of 1s."
      ]
    },
    {
      "cell_type": "code",
      "metadata": {
        "id": "MCBAGwn0727m",
        "colab_type": "code",
        "colab": {}
      },
      "source": [
        "def generator_loss(fake_output):\n",
        "    return cross_entropy(tf.ones_like(fake_output), fake_output) "
      ],
      "execution_count": 49,
      "outputs": []
    },
    {
      "cell_type": "code",
      "metadata": {
        "id": "npjJCyAw8GR6",
        "colab_type": "code",
        "colab": {}
      },
      "source": [
        "#The discriminator and the generator optimizers are different since we will train two networks separately.\n",
        "generator_optimizer = tf.keras.optimizers.Adam(1e-4)\n",
        "discriminator_optimizer = tf.keras.optimizers.Adam(1e-4)"
      ],
      "execution_count": 50,
      "outputs": []
    },
    {
      "cell_type": "markdown",
      "metadata": {
        "id": "CPlyo3GJ8QyD",
        "colab_type": "text"
      },
      "source": [
        "Save Checkpoints"
      ]
    },
    {
      "cell_type": "code",
      "metadata": {
        "id": "gcY6Le7s8Pix",
        "colab_type": "code",
        "colab": {}
      },
      "source": [
        "checkpoint_dir = './training_checkpoints'\n",
        "checkpoint_prefix = os.path.join(checkpoint_dir, \"ckpt\")\n",
        "checkpoint = tf.train.Checkpoint(generator_optimizer=generator_optimizer,\n",
        "                                 discriminator_optimizer=discriminator_optimizer,\n",
        "                                 generator=generator,\n",
        "                                 discriminator=discriminator)"
      ],
      "execution_count": 51,
      "outputs": []
    },
    {
      "cell_type": "markdown",
      "metadata": {
        "id": "igKlqh2X84Xm",
        "colab_type": "text"
      },
      "source": [
        "***Training Loop***"
      ]
    },
    {
      "cell_type": "code",
      "metadata": {
        "id": "-u0lOve48pkT",
        "colab_type": "code",
        "colab": {}
      },
      "source": [
        "EPOCHS = 100\n",
        "noise_dim = 100\n",
        "num_examples_to_generate = 16\n",
        "\n",
        "# We will reuse this seed overtime (so it's easier)\n",
        "# to visualize progress in the animated GIF)\n",
        "seed = tf.random.normal([num_examples_to_generate, noise_dim])"
      ],
      "execution_count": 52,
      "outputs": []
    },
    {
      "cell_type": "markdown",
      "metadata": {
        "id": "s30jUNV89QxE",
        "colab_type": "text"
      },
      "source": [
        "The training loop begins with generator receiving a random seed as input. That seed is used to produce an image. The discriminator is then used to classify real images (drawn from the training set) and fakes images (produced by the generator). The loss is calculated for each of these models, and the gradients are used to update the generator and discriminator."
      ]
    },
    {
      "cell_type": "code",
      "metadata": {
        "id": "xRpVHBXo-WTP",
        "colab_type": "code",
        "colab": {}
      },
      "source": [
        "# Notice the use of `tf.function`\n",
        "# This annotation causes the function to be \"compiled\".\n",
        "@tf.function\n",
        "def train_step(images):\n",
        "    noise = tf.random.normal([BATCH_SIZE, noise_dim])\n",
        "\n",
        "    with tf.GradientTape() as gen_tape, tf.GradientTape() as disc_tape:\n",
        "      generated_images = generator(noise, training=True)\n",
        "\n",
        "      real_output = discriminator(images, training=True)\n",
        "      fake_output = discriminator(generated_images, training=True)\n",
        "\n",
        "      gen_loss = generator_loss(fake_output)\n",
        "      disc_loss = discriminator_loss(real_output, fake_output)\n",
        "\n",
        "    gradients_of_generator = gen_tape.gradient(gen_loss, generator.trainable_variables)\n",
        "    gradients_of_discriminator = disc_tape.gradient(disc_loss, discriminator.trainable_variables)\n",
        "\n",
        "    generator_optimizer.apply_gradients(zip(gradients_of_generator, generator.trainable_variables))\n",
        "    discriminator_optimizer.apply_gradients(zip(gradients_of_discriminator, discriminator.trainable_variables))"
      ],
      "execution_count": 53,
      "outputs": []
    },
    {
      "cell_type": "code",
      "metadata": {
        "id": "af3rjhvNCTwG",
        "colab_type": "code",
        "colab": {}
      },
      "source": [
        "def train(dataset, epochs):\n",
        "  for epoch in range(epochs):\n",
        "    start = time.time()\n",
        "\n",
        "    for image_batch in dataset:\n",
        "      train_step(image_batch)\n",
        "\n",
        "    # Produce images for the GIF as we go\n",
        "    display.clear_output(wait=True)\n",
        "    generate_and_save_images(generator,\n",
        "                             epoch + 1,\n",
        "                             seed)\n",
        "\n",
        "    # Save the model every 15 epochs\n",
        "    if (epoch + 1) % 15 == 0:\n",
        "      checkpoint.save(file_prefix = checkpoint_prefix)\n",
        "\n",
        "    print ('Time for epoch {} is {} sec'.format(epoch + 1, time.time()-start))\n",
        "\n",
        "  # Generate after the final epoch\n",
        "  display.clear_output(wait=True)\n",
        "  generate_and_save_images(generator,\n",
        "                           epochs,\n",
        "                           seed)"
      ],
      "execution_count": 54,
      "outputs": []
    },
    {
      "cell_type": "markdown",
      "metadata": {
        "id": "FMjNen2JC9eH",
        "colab_type": "text"
      },
      "source": [
        "**Generate and Save Images**"
      ]
    },
    {
      "cell_type": "code",
      "metadata": {
        "id": "_gplqt6XCwp9",
        "colab_type": "code",
        "colab": {}
      },
      "source": [
        "def generate_and_save_images(model, epoch, test_input):\n",
        "  # Notice `training` is set to False.\n",
        "  # This is so all layers run in inference mode (batchnorm).\n",
        "  predictions = model(test_input, training=False)\n",
        "\n",
        "  fig = plt.figure(figsize=(4,4))\n",
        "\n",
        "  for i in range(predictions.shape[0]):\n",
        "      plt.subplot(4, 4, i+1)\n",
        "      plt.imshow(predictions[i, :, :, 0] * 127.5 + 127.5, cmap='gray')\n",
        "      plt.axis('off')\n",
        "\n",
        "  plt.savefig('image_at_epoch_{:04d}.png'.format(epoch))\n",
        "  plt.show()"
      ],
      "execution_count": 55,
      "outputs": []
    },
    {
      "cell_type": "markdown",
      "metadata": {
        "id": "5LnC7NCQDRn1",
        "colab_type": "text"
      },
      "source": [
        "**Train the model**\n",
        "Call the train() method defined above to train the generator and discriminator simultaneously. Note, training GANs can be tricky. It's important that the generator and discriminator do not overpower each other (e.g., that they train at a similar rate).\n",
        "\n",
        "At the beginning of the training, the generated images look like random noise. As training progresses, the generated digits will look increasingly real. After about 50 epochs, they resemble MNIST digits. This may take about one minute / epoch with the default settings on Colab."
      ]
    },
    {
      "cell_type": "code",
      "metadata": {
        "id": "IdlrdRemDgjn",
        "colab_type": "code",
        "colab": {
          "base_uri": "https://localhost:8080/",
          "height": 248
        },
        "outputId": "29777e54-c7f9-4b9c-cbc4-7d053dd56444"
      },
      "source": [
        "train(train_dataset, EPOCHS)"
      ],
      "execution_count": 56,
      "outputs": [
        {
          "output_type": "display_data",
          "data": {
            "image/png": "[encoded data removed]",
            "text/plain": [
              "<Figure size 288x288 with 16 Axes>"
            ]
          },
          "metadata": {
            "tags": [],
            "needs_background": "light"
          }
        }
      ]
    },
    {
      "cell_type": "markdown",
      "metadata": {
        "id": "S4JNC5mgHH3d",
        "colab_type": "text"
      },
      "source": [
        "Restoring the latest checkpoint"
      ]
    },
    {
      "cell_type": "code",
      "metadata": {
        "id": "fY6DeSiPHMZq",
        "colab_type": "code",
        "colab": {
          "base_uri": "https://localhost:8080/",
          "height": 34
        },
        "outputId": "80ecc310-6683-4f7e-b5e9-61e5442c2521"
      },
      "source": [
        "checkpoint.restore(tf.train.latest_checkpoint(checkpoint_dir))"
      ],
      "execution_count": 57,
      "outputs": [
        {
          "output_type": "execute_result",
          "data": {
            "text/plain": [
              "<tensorflow.python.training.tracking.util.CheckpointLoadStatus at 0x7f54e01fa828>"
            ]
          },
          "metadata": {
            "tags": []
          },
          "execution_count": 57
        }
      ]
    }
  ]
}